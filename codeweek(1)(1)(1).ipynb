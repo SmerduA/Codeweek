{
 "cells": [
  {
   "cell_type": "markdown",
   "metadata": {},
   "source": [
    "\n",
    " # Priporočitveni modeli\n",
    "\n",
    "Obstajajo trie glavni principi grajenja modelov za priporočanje:\n",
    " \n",
    "     1. Modeli, ki temeljijo na splošni priljubljenosti\n",
    "     2. Modeli, ki temeljijo na vsebini\n",
    "     3. Modeli, ki temeljijo na ocenah podobnih uporabnikov\n",
    "\n",
    " \n",
    " ### Modeli, ki temeljijo na splošni priljubljenosti:\n",
    " \n",
    " To je najpreprostejša oblika modelov. Trendi se zaznavajo s pomočjo štetj ogledov/klikov, in so na podlagi tega razvrščeni po priljubljenosti (YouTube, Netflix,...).\n",
    " \n",
    " ### Modeli, ki temeljijo na vsebini:\n",
    " \n",
    " Ti modeli kot vhodni podatek vzamejo film, ki je všeč uporabniku. Potm preučijo njegovo vsebino filma (zgodba, žanr, igralska zasedba, režiser,...) in priporoči filme, ki so po teh parametrih podobni izbranemu filmu. Uporabniku priporoča filme in jih lahko razvrsti po relavantnosti glede na želen kriterij.\n",
    " \n",
    " ### Modeli, ki temeljijo na ocenah podobnih uporabnikov:\n",
    " \n",
    " Ti modeli najprej poizkušajo poiskati podobne uporabnike glede na njihove preference (npr. oba uporabnika gledata filme istega žanra, istega režiserja,...). Potem med sorodnima uporabnikoma A in B priporoča filme, ki jih eden od njiju še ni videl, drugemu pa je bil všeč. Priporočila so torej filtrirana glede na preference sorodnih uporabnikov. Takšni modeli se uporabljajo na Amazonu (\"Customers who viewed this item also viewed\",\"Customers who bought this item also bought\" ).\n",
    "\n",
    " https://miro.medium.com/max/875/0*wJ1hfDhXNYJbk8Aj\n",
    "\n",
    " Mi bomo konstruirali model, ki temelji na vsebini.\n",
    "\n",
    " ## Iskanje podobnosti\n",
    " \n",
    "Naš model bo torej temeljil na vsebini. Kar bo potrebno storiti, je najti podobne filme danemu filmu. Sama ideja je precej očitna, zaplete pa se pri definiciji določanja kaj pomeni, da sta si dva filma podobna. Pomagali si bomo z nekaj linearne algebre. Da stvari ne bojo preveč strašljive, si bomo najprej pogledali preprostejši primer.\n",
    " \n",
    " Imamo dve besedili:\n",
    " \n",
    " Besedilo A: Mandarina Banana Banana\n",
    " \n",
    " Besedilo B: Banana Mandarina Mandarina\n",
    " \n",
    " Kako najdemo podobnosti med zgornjima primeroma?\n",
    " \n",
    " Če analiziramo besedili….\n",
    " \n",
    "     Besedilo A: Vsebuje dve ponovitvi besede \"Banana\" in eno ponovitev besede \"Mandarina\".\n",
    "     Besedilo B: Vsebuje dve ponovitvi besede \"Mandarina\" in eno ponovitev besede \"Banana\".\n",
    " \n",
    " Predstavimo besedili v ravnini, kjer bo na x-osi št. ponovitv besede \"Banana\" in na y-osi št. ponovitev besede \"Mandarina\". Vsako od besedil je tako predstavljeno kot vektor.\n",
    "\n",
    " https://miro.medium.com/max/875/0*Von8RtqkHK-WD1w4\n",
    "\n",
    " Rumen vektor predstavlja besedilo A, rdeč pa besedilo B.\n",
    "\n",
    " Ali lahko s pomočjo danih vektorjev in nekaj osnovnega znanja matematike določimo, ali sta si besedili podobni? Oziroma, bolje je vprašati kar kako bomo to storili.\n",
    " \n",
    " Dani besedili smo predstavili kot vektorja v ravnini in lahko rečemo, da sta si besedili podobni, če sta si vektorja blizu. Bolj kot sta si blizu vektorja, bolj sta si podobni besedili in bolj kot sta oddaljena, bolj sta si besedili različni. \n",
    " \n",
    " Kaj točno pomeni da sta si vektorja blizu? Lahko bi vzeli različne definicije bližine, mi pa bomo vzeli eno bolj preprostih, to je velikost kota θ, ki ga oklepata vektorja. Manjši ko je kot, manjša je razdalja med vektorjema. Izkaže se, da nam bo bolj kot sama velikost kota  θ pri strojnem učenju prišla prav vrednost *cos  θ*. Zakaj?  \n",
    " \n",
    " S pomočjo srednješolske matematike lahko ugotovimo, kolikšna je vrednost *cos  θ*.\n",
    "\n",
    " Kako pa bi to naredili v Pythonu?\n",
    " \n",
    " Najprej moramo shraniti naši besedili v seznam:\n",
    "\n"
   ]
  },
  {
   "cell_type": "code",
   "execution_count": 1,
   "metadata": {},
   "outputs": [],
   "source": [
    "besedili = ['Mandarina Banana Banana','Banana Mandarina Mandarina']"
   ]
  },
  {
   "cell_type": "markdown",
   "metadata": {},
   "source": [
    "Kako bomo predstavili besedili v seznamu kot vektorja na sliki? . Razred [`CountVectorizer()`](https://scikit-learn.org/stable/modules/generated/sklearn.feature_extraction.text.CountVectorizer.html) iz knjižnice `sklearn.feature_extraction.text` naredi prav to. Najprej pa moramo seveda uvoziti knižnico, preden lahko naredimo `CountVectorizer()` objekt."
   ]
  },
  {
   "cell_type": "code",
   "execution_count": 2,
   "metadata": {},
   "outputs": [
    {
     "name": "stdout",
     "output_type": "stream",
     "text": [
      "  (0, 1)\t1\n",
      "  (0, 0)\t2\n",
      "  (1, 1)\t2\n",
      "  (1, 0)\t1\n"
     ]
    }
   ],
   "source": [
    "from sklearn.feature_extraction.text import CountVectorizer\n",
    "cv = CountVectorizer()\n",
    "count_matrix = cv.fit_transform(besedili)\n",
    "\n",
    "print(count_matrix)"
   ]
  },
  {
   "cell_type": "markdown",
   "metadata": {},
   "source": [
    "`count_matrix` nam vrne razpršeno matriko. Da pa bo oblika nam bolj razumljiva, jo prevedemo v array z metodo `toarrray()`. Še pred tem pa bomo vrnili seznam lastnosti (feature list), ki smo ga podali objektu `CountVectorizer()`."
   ]
  },
  {
   "cell_type": "code",
   "execution_count": 3,
   "metadata": {},
   "outputs": [
    {
     "name": "stdout",
     "output_type": "stream",
     "text": [
      "['banana', 'mandarina']\n",
      "[[2 1]\n",
      " [1 2]]\n"
     ]
    }
   ],
   "source": [
    "print(cv.get_feature_names())\n",
    "print(count_matrix.toarray())"
   ]
  },
  {
   "cell_type": "markdown",
   "metadata": {},
   "source": [
    "Ta zapis nam pove, da se beseda 'banana' v besedilu A pojavi dvakrat, 'mandarina' pa enkrat, v besedilu B pa ravno obratno.\n",
    "Zgornji array nam je podal besedili v izomorfni obliki, kot smo jih prikazali na sliki.\n",
    "Zdaj pa izračunajmo še kosinus kota med vektorjema, da dobimo numerično opredelitev, kako blizu sta si vektorja oziroma naši besedili. To bomo izračunali s pomočjo funkcije `cosine_similarity()` iz knjižnice `sklearn.metrics.pairwise`.\n"
   ]
  },
  {
   "cell_type": "code",
   "execution_count": null,
   "metadata": {},
   "outputs": [],
   "source": [
    "from sklearn.metrics.pairwise import cosine_similarity\n",
    "similarity_scores = cosine_similarity(count_matrix)\n",
    "print(similarity_scores)"
   ]
  },
  {
   "cell_type": "markdown",
   "metadata": {},
   "source": [
    " Kaj nam pove vrnjena matrika podobnosti?\n",
    " \n",
    " Interpretiramo jo na sledeč način\n",
    " \n",
    "     1. Vsaka vrstica matrike podobnosti predstavlja enega od naših besedil. Torej vrstica 0 = Besedilo A in vrstica \n",
    "         1 = Besedilo B.\n",
    "     2. Enako velja za stolpca.\n",
    "     \n",
    " Bolj pregleden zapis bi bil morda takle:"
   ]
  },
  {
   "cell_type": "code",
   "execution_count": null,
   "metadata": {},
   "outputs": [],
   "source": [
    "Besedilo A:     Besedilo B:\n",
    "Besedilo A: [[1.        0.8]\n",
    "Besedilo B: [0.8        1.]]"
   ]
  },
  {
   "cell_type": "markdown",
   "metadata": {},
   "source": [
    "Matriko lahko razumemo kot tabelo, ki nam poda podobnost med dvema besediloma. Število 1. na mestu [0, 0] je podobnost Besedila A s samim sabo, kar pomeni, da je ujemanje 100%. Prav tako velja za ujemanje Besedila B s samim sabo (število na mestu [1, 1]). Ujemanje med Besedilom A in B je enako, kot če vrstni red zamenjamo, in je 80% (števili 0.8 na mestih [0, 1] in [1, 0]). Vidimo, da je zato matrika podobnosti zmeraj simetrična.\n",
    " \n",
    " Zdaj vemo, kako poiskati podobnost med dvema vsebinama. Sledi implementacija za naš začetni problem - model za priporočanje filmov.\n",
    "\n",
    "## Priporočilni model\n",
    "\n",
    " Za proporočilni model najprej potrebijemo [množico podatkov](https://github.com/codeheroku/Introduction-to-Machine-Learning/blob/master/Building%20a%20Movie%20Recommendation%20Engine/movie_dataset.csv), ki je shranjena v datoteki `movie_dataset.csv`. Da bo naš model deloval, najprej uvozimo potrebre knjižnjice za branje `.csv` datotek.\n"
   ]
  },
  {
   "cell_type": "code",
   "execution_count": null,
   "metadata": {},
   "outputs": [],
   "source": [
    "import pandas as pd\n",
    "import numpy as np\n",
    "from sklearn.feature_extraction.text import CountVectorizer\n",
    "from sklearn.metrics.pairwise import cosine_similarity\n"
   ]
  },
  {
   "cell_type": "code",
   "execution_count": null,
   "metadata": {},
   "outputs": [],
   "source": [
    "df = pd.read_csv(\"C:\\\\Users\\\\asmerdu\\\\Documents\\\\movies_db.csv\")"
   ]
  },
  {
   "cell_type": "markdown",
   "metadata": {},
   "source": [
    "Pogejmo si podatke, ki jih imamo:"
   ]
  },
  {
   "cell_type": "code",
   "execution_count": null,
   "metadata": {},
   "outputs": [],
   "source": [
    "#df.shape\n",
    "#df.size\n",
    "#df.values\n",
    " df.head(10)"
   ]
  },
  {
   "cell_type": "markdown",
   "metadata": {},
   "source": [
    "Vidimo, da je za posameze film mnogo podatkov, ki za nas niso tako zanimivi. Izmet vseh lahko izberemo tiste, ki se nam zdijo najbolj pomembni. To ne naša množica lastnosti (*feature set*).\n"
   ]
  },
  {
   "cell_type": "code",
   "execution_count": null,
   "metadata": {},
   "outputs": [],
   "source": [
    "features = ['keywords','cast','genres','director']"
   ]
  },
  {
   "cell_type": "markdown",
   "metadata": {},
   "source": [
    "Naslednja naloga je, da napišemo funkcijo, ki bo združila vrednosti vsake vrstice v niz."
   ]
  },
  {
   "cell_type": "code",
   "execution_count": null,
   "metadata": {},
   "outputs": [],
   "source": [
    "def combine_features(row):\n",
    " return row['keywords']+\" \"+row['cast']+\" \"+row[\"genres\"]+\" \"+row[\"director\"]"
   ]
  },
  {
   "cell_type": "markdown",
   "metadata": {},
   "source": [
    "To funkcijo bomo poklicali na vsaki vrtici iz naše množice podatkov. Še prej bomo s pomočjo for zanke nadomestili vse neveljavne vnose [`NaN`](https://en.wikipedia.org/wiki/NaN) s praznim nizom.\n"
   ]
  },
  {
   "cell_type": "code",
   "execution_count": null,
   "metadata": {},
   "outputs": [],
   "source": [
    "for feature in features:\n",
    "    df[feature] = df[feature].fillna('') #filling all NaNs with blank string\n",
    "    \n",
    "df[\"combined_features\"] = df.apply(combine_features,axis=1) #applying combined_features() method over each rows of dataframe and storing the combined string in \"combined_features\" column"
   ]
  },
  {
   "cell_type": "markdown",
   "metadata": {},
   "source": [
    "Zdaj, ko imamo pripravljene prečiščene podatke, lahko nadaljujemo `CountVectorizer()`, da bomo dobili matriko vektorjev.\n"
   ]
  },
  {
   "cell_type": "code",
   "execution_count": null,
   "metadata": {},
   "outputs": [],
   "source": [
    "cv = CountVectorizer() #creating new CountVectorizer() object\n",
    "count_matrix = cv.fit_transform(df[\"combined_features\"]) #feeding combined strings(movie contents) to CountVectorizer() object\n"
   ]
  },
  {
   "cell_type": "markdown",
   "metadata": {},
   "source": [
    "Izračunamo matriko podobnosti."
   ]
  },
  {
   "cell_type": "code",
   "execution_count": null,
   "metadata": {},
   "outputs": [],
   "source": [
    "cosine_sim = cosine_similarity(count_matrix)"
   ]
  },
  {
   "cell_type": "markdown",
   "metadata": {},
   "source": [
    "Definirali bomo funkciji, ki povežeta naslov filma in njegov indeks (in obratno)."
   ]
  },
  {
   "cell_type": "code",
   "execution_count": null,
   "metadata": {},
   "outputs": [],
   "source": [
    "def get_title_from_index(index):\n",
    "    return df[df.index == index][\"title\"].values[0]\n",
    "\n",
    "def get_index_from_title(title):\n",
    "    return df[df.title == title][\"index\"].values[0]"
   ]
  },
  {
   "cell_type": "markdown",
   "metadata": {},
   "source": [
    "Zdaj lahko vnesemo ime filma, ki nam je trenutno všeč. Našli bomo njegov indeks, da bomo lahko dostopali do ustrezne vrstice v matriki podobnosti. Tako bomo lhko prebrali podobnosti izbranega filma z drugimi filmi. Sprehodili se bomo čez vse ocene podobnosti in jih shranili v seznam urejenih parov, skupaj z zaporedno številko. Zgledalo bo približno tako: vrstico ocen iz matrike podobnosti `[1 0.5 0.2 0.9]` bo preoblikovalo v  seznam parov `[(0, 1) (1, 0.5) (2, 0.2) (3, 0.9)]`. Prva številka v paru je indeks filma, druga pa ocena podobnosti.\n"
   ]
  },
  {
   "cell_type": "code",
   "execution_count": null,
   "metadata": {},
   "outputs": [],
   "source": [
    "movie_user_likes = \"Avatar\"\n",
    "movie_index = get_index_from_title(movie_user_likes)\n",
    "similar_movies = list(enumerate(cosine_sim[movie_index])) #accessing the row corresponding to given movie to find all the similarity scores for that movie and then enumerating over it"
   ]
  },
  {
   "cell_type": "markdown",
   "metadata": {},
   "source": [
    "Prišli smo do ključnega dela - sortiranja seznama `similar_movies` glede na ocene podobnosti. Ker bo najpodobnejši film izbranemu filmu kar film sam, izpustimo prvi element urejenega seznama."
   ]
  },
  {
   "cell_type": "code",
   "execution_count": null,
   "metadata": {},
   "outputs": [],
   "source": [
    "sorted_similar_movies = sorted(similar_movies,key=lambda x:x[1],reverse=True)[1:]"
   ]
  },
  {
   "cell_type": "markdown",
   "metadata": {},
   "source": [
    "S for zanko se bomo sprehodili čez urejen seznam filmov po podobnosti in izpisali 5 najbolj podobnih filmov."
   ]
  },
  {
   "cell_type": "code",
   "execution_count": null,
   "metadata": {},
   "outputs": [],
   "source": [
    "i=0\n",
    "print(\"Top 5 similar movies to \"+movie_user_likes+\" are:\\n\")\n",
    "for element in sorted_similar_movies:\n",
    "    print(get_title_from_index(element[0]))\n",
    "    i=i+1\n",
    "    if i>5:\n",
    "        break"
   ]
  },
  {
   "cell_type": "markdown",
   "metadata": {},
   "source": [
    "Če zapišemo kodo na enem mestu, bi zgledala takole:"
   ]
  },
  {
   "cell_type": "code",
   "execution_count": null,
   "metadata": {},
   "outputs": [],
   "source": [
    "import pandas as pd\n",
    "import numpy as np\n",
    "from sklearn.feature_extraction.text import CountVectorizer\n",
    "from sklearn.metrics.pairwise import cosine_similarity\n",
    "\n",
    "df = pd.read_csv(\"C:\\\\Users\\\\asmerdu\\\\Documents\\\\movies_db.csv\")\n",
    "\n",
    "features = ['keywords','cast','genres','director']\n",
    "\n",
    "def combine_features(row):\n",
    "    return row['keywords'] +\" \"+row['cast']+\" \"+row[\"genres\"]+\" \"+row[\"director\"]\n",
    "\n",
    "for feature in features:\n",
    "    df[feature] = df[feature].fillna('')\n",
    "\n",
    "df[\"combined_features\"] = df.apply(combine_features,axis=1)\n",
    "\n",
    "cv = CountVectorizer()\n",
    "count_matrix = cv.fit_transform(df[\"combined_features\"])\n",
    "\n",
    "cosine_sim = cosine_similarity(count_matrix)\n",
    "\n",
    "def get_title_from_index(index):\n",
    "    return df[df.index == index][\"title\"].values[0]\n",
    "\n",
    "def get_index_from_title(title):\n",
    "    return df[df.title == title][\"index\"].values[0]\n",
    "\n",
    "movie_user_likes = \"Avatar\"\n",
    "movie_index = get_index_from_title(movie_user_likes)\n",
    "similar_movies =  list(enumerate(cosine_sim[movie_index]))\n",
    "\n",
    "sorted_similar_movies = sorted(similar_movies,key=lambda x:x[1],reverse=True)[1:]\n",
    "\n",
    "i=0\n",
    "print(\"Top 5 similar movies to \"+movie_user_likes+\" are:\\n\")\n",
    "for element in sorted_similar_movies:\n",
    "    print(get_title_from_index(element[0]))\n",
    "    i=i+1\n",
    "    if i>=5:\n",
    "        break"
   ]
  }
 ],
 "metadata": {
  "kernelspec": {
   "display_name": "Python 3",
   "language": "python",
   "name": "python3"
  },
  "language_info": {
   "codemirror_mode": {
    "name": "ipython",
    "version": 3
   },
   "file_extension": ".py",
   "mimetype": "text/x-python",
   "name": "python",
   "nbconvert_exporter": "python",
   "pygments_lexer": "ipython3",
   "version": "3.7.3"
  }
 },
 "nbformat": 4,
 "nbformat_minor": 4
}
